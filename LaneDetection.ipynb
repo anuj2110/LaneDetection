{
 "cells": [
  {
   "cell_type": "code",
   "execution_count": 1,
   "metadata": {},
   "outputs": [],
   "source": [
    "import cv2\n",
    "import numpy as np\n",
    "import matplotlib.pyplot as plt\n",
    "import matplotlib.image as mpimage\n",
    "import math\n",
    "#importing the dependencies"
   ]
  },
  {
   "cell_type": "code",
   "execution_count": 2,
   "metadata": {},
   "outputs": [],
   "source": [
    "def region_of_interest(img,vertices):\n",
    "    mask=np.zeros_like(img)\n",
    "    match_mask_color=255\n",
    "    cv2.fillPoly(mask,vertices,match_mask_color)\n",
    "    masked_image=cv2.bitwise_and(img,mask)\n",
    "    return masked_image\n",
    "#functon for extracting the reigon of interest area in our case a triangular region"
   ]
  },
  {
   "cell_type": "code",
   "execution_count": 3,
   "metadata": {},
   "outputs": [],
   "source": [
    "def draw_lines(img,lines,color=[255,0,0],thickness=3):\n",
    "    if lines is None :\n",
    "        return\n",
    "    copy=np.copy(img)\n",
    "    line_image=np.zeros(shape=(copy.shape[0],copy.shape[1],3),dtype=np.uint8)\n",
    "    for line in lines:\n",
    "        for x1,y1,x2,y2 in line:\n",
    "            cv2.line(line_image,(x1,y1),(x2,y2),color,thickness)\n",
    "    copy=cv2.addWeighted(img,0.8,line_image,1.0,0.0)\n",
    "    return copy\n",
    "#function for drawing the lines "
   ]
  },
  {
   "cell_type": "code",
   "execution_count": 16,
   "metadata": {},
   "outputs": [],
   "source": [
    "\n",
    "def pipeline(image):\n",
    "    \"\"\"\n",
    "    An image processing pipeline which will output\n",
    "    an image with the lane lines annotated.\n",
    "    \"\"\"\n",
    "    height = image.shape[0]\n",
    "    width = image.shape[1]\n",
    "    #extracting the width and height for ROI calculation\n",
    "    \n",
    "    region_of_interest_vertices = [\n",
    "        (0, height),\n",
    "        (width / 2, height / 2),\n",
    "        (width, height),\n",
    "    ]\n",
    "    #array of ROI points\n",
    "    \n",
    "    gray_image = cv2.cvtColor(image, cv2.COLOR_RGB2GRAY)\n",
    "    cannyed_image = cv2.Canny(gray_image, 100, 200)\n",
    "    #extracting the edges from the image\n",
    "    \n",
    "    cropped_image = region_of_interest(\n",
    "        cannyed_image,\n",
    "        np.array(\n",
    "            [region_of_interest_vertices],\n",
    "            np.int32\n",
    "        ),\n",
    "    )\n",
    "    #cropping the image to ROI\n",
    "    \n",
    "    lines = cv2.HoughLinesP(\n",
    "        cropped_image,\n",
    "        rho=6,\n",
    "        theta=np.pi / 60,\n",
    "        threshold=160,\n",
    "        lines=np.array([]),\n",
    "        minLineLength=40,\n",
    "        maxLineGap=25\n",
    "    )\n",
    "    #extracting the lines end point from hough space  transformations\n",
    "    \n",
    "    left_line_x = []\n",
    "    left_line_y = []\n",
    "    right_line_x = []\n",
    "    right_line_y = []\n",
    "    # arrays for seperating left and right lanes\n",
    "    \n",
    "    for line in lines:\n",
    "        for x1, y1, x2, y2 in line:\n",
    "            slope = (y2 - y1) / (x2 - x1)\n",
    "            if math.fabs(slope) < 0.5:\n",
    "                continue\n",
    "            if slope <= 0:\n",
    "                left_line_x.extend([x1, x2])\n",
    "                left_line_y.extend([y1, y2])\n",
    "            else:\n",
    "                right_line_x.extend([x1, x2])\n",
    "                right_line_y.extend([y1, y2])\n",
    "    #main loop for seperating left and right lanes\n",
    "    \n",
    "    min_y = int(image.shape[0] * (3 / 5))\n",
    "    max_y = int(image.shape[0])\n",
    "    #these are values for plotting the lines y axis points\n",
    "    \n",
    "    poly_left = np.poly1d(np.polyfit(\n",
    "        left_line_y,\n",
    "        left_line_x,\n",
    "        deg=1\n",
    "    ))\n",
    " \n",
    "    left_x_start = int(poly_left(max_y))\n",
    "    left_x_end = int(poly_left(min_y))\n",
    "    #processing for the left lines x-axis points\n",
    "    \n",
    "    poly_right = np.poly1d(np.polyfit(\n",
    "        right_line_y,\n",
    "        right_line_x,\n",
    "       deg=1\n",
    "    ))\n",
    "    right_x_start = int(poly_right(max_y))\n",
    "    right_x_end = int(poly_right(min_y))\n",
    "     #processing for the right lines x-axis points\n",
    " \n",
    "    line_image = draw_lines(\n",
    "        image,\n",
    "        [[\n",
    "            [left_x_start, max_y, left_x_end, int(min_y)],\n",
    "            [right_x_start, max_y, right_x_end, int(min_y)],\n",
    "        ]],\n",
    "        thickness=5,\n",
    "    )\n",
    "    return line_image\n",
    "#main function for processing all the frames of the video"
   ]
  },
  {
   "cell_type": "code",
   "execution_count": 21,
   "metadata": {},
   "outputs": [
    {
     "name": "stdout",
     "output_type": "stream",
     "text": [
      "[MoviePy] >>>> Building video solidYellowLeft_output.mp4\n",
      "[MoviePy] Writing video solidYellowLeft_output.mp4\n"
     ]
    },
    {
     "name": "stderr",
     "output_type": "stream",
     "text": [
      "100%|█████████▉| 681/682 [00:24<00:00, 27.65it/s]\n"
     ]
    },
    {
     "name": "stdout",
     "output_type": "stream",
     "text": [
      "[MoviePy] Done.\n",
      "[MoviePy] >>>> Video ready: solidYellowLeft_output.mp4 \n",
      "\n"
     ]
    }
   ],
   "source": [
    "from moviepy.editor import VideoFileClip\n",
    "from IPython.display import HTML\n",
    "white_output = 'solidYellowLeft_output.mp4'\n",
    "clip1 = VideoFileClip(\"test_videos/solidYellowLeft.mp4\")\n",
    "white_clip = clip1.fl_image(pipeline)\n",
    "white_clip.write_videofile(white_output, audio=False)"
   ]
  },
  {
   "cell_type": "code",
   "execution_count": null,
   "metadata": {},
   "outputs": [],
   "source": []
  }
 ],
 "metadata": {
  "kernelspec": {
   "display_name": "Python 3",
   "language": "python",
   "name": "python3"
  },
  "language_info": {
   "codemirror_mode": {
    "name": "ipython",
    "version": 3
   },
   "file_extension": ".py",
   "mimetype": "text/x-python",
   "name": "python",
   "nbconvert_exporter": "python",
   "pygments_lexer": "ipython3",
   "version": "3.6.6"
  }
 },
 "nbformat": 4,
 "nbformat_minor": 2
}
